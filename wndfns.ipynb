{
 "cells": [
  {
   "cell_type": "code",
   "execution_count": 0,
   "metadata": {
    "application/vnd.databricks.v1+cell": {
     "cellMetadata": {
      "byteLimit": 2048000,
      "rowLimit": 10000
     },
     "inputWidgets": {},
     "nuid": "00f33ac6-0a02-453b-b3d9-9753eaaad085",
     "showTitle": false,
     "title": ""
    }
   },
   "outputs": [
    {
     "output_type": "stream",
     "name": "stdout",
     "output_type": "stream",
     "text": [
      "+-------+\n|   Name|\n+-------+\n|  James|\n|Michael|\n| Robert|\n|  Maria|\n|  Scott|\n|    Jen|\n|   Jeff|\n|  Kumar|\n|   Saif|\n+-------+\n\nDistinct Count: 9\n"
     ]
    }
   ],
   "source": [
    "data = [(\"James\", \"Sales\", 3000),\n",
    "    (\"Michael\", \"Sales\", 4600),\n",
    "    (\"Robert\", \"Sales\", 4100),\n",
    "    (\"Maria\", \"Finance\", 3000),\n",
    "    (\"James\", \"Sales\", 3500),\n",
    "    (\"Scott\", \"Finance\", 3300),\n",
    "    (\"Jen\", \"Finance\", 3900),\n",
    "    (\"Jeff\", \"Marketing\", 3000),\n",
    "    (\"Kumar\", \"Marketing\", 2000),\n",
    "    (\"Saif\", \"Sales\", 4100)\n",
    "  ]\n",
    "columns = [\"Name\",\"Dept\",\"Salary\"]\n",
    "df = spark.createDataFrame(data=data,schema=columns)\n",
    "df.select(\"Name\").distinct().show()\n",
    "print(\"Distinct Count: \" + str(df.select(\"Name\").distinct().count()))"
   ]
  },
  {
   "cell_type": "code",
   "execution_count": 0,
   "metadata": {
    "application/vnd.databricks.v1+cell": {
     "cellMetadata": {
      "byteLimit": 2048000,
      "rowLimit": 10000
     },
     "inputWidgets": {},
     "nuid": "c03883c4-e5e1-4c25-a031-47e0864a25b0",
     "showTitle": false,
     "title": ""
    }
   },
   "outputs": [
    {
     "output_type": "stream",
     "name": "stdout",
     "output_type": "stream",
     "text": [
      "+-------+---------+------+-----------+\n|   Name|     Dept|Salary|         ID|\n+-------+---------+------+-----------+\n|    Jen|  Finance|  3900|  1_Finance|\n|  Maria|  Finance|  3000|  2_Finance|\n|  Scott|  Finance|  3300|  3_Finance|\n|   Jeff|Marketing|  3000|1_Marketing|\n|  Kumar|Marketing|  2000|2_Marketing|\n|  James|    Sales|  3000|    1_Sales|\n|  James|    Sales|  3500|    2_Sales|\n|Michael|    Sales|  4600|    3_Sales|\n| Robert|    Sales|  4100|    4_Sales|\n|   Saif|    Sales|  4100|    5_Sales|\n+-------+---------+------+-----------+\n\n"
     ]
    }
   ],
   "source": [
    "import pyspark.sql.functions as fnsql #row_number\n",
    "from pyspark.sql.window import Window as wnd #window function\n",
    "from pyspark.sql.types import DateType, StringType, DoubleType, BooleanType\n",
    "\n",
    "wndspec = wnd.partitionBy(\"Dept\").orderBy(\"Name\")\n",
    "# df.withColumn(\"ID\", fnsql.concat(string(fnsql.row_number().over(wndspec)),df[\"Dept\"]) ).show()\n",
    "df.withColumn(\"ID\",\\\n",
    "    # fnsql.concat( fnsql.row_number().cast(StringType()).over(wndspec),df[\"Dept\"] ) ).show()\n",
    "    fnsql.concat( fnsql.row_number().over(wndspec).cast(StringType() ),fnsql.lit(\"_\"),df[\"Dept\"] )).show()\n",
    "\n"
   ]
  },
  {
   "cell_type": "code",
   "execution_count": 0,
   "metadata": {
    "application/vnd.databricks.v1+cell": {
     "cellMetadata": {
      "byteLimit": 2048000,
      "rowLimit": 10000
     },
     "inputWidgets": {},
     "nuid": "9d7f109f-2ef3-4c04-b15c-eb6920451486",
     "showTitle": false,
     "title": ""
    }
   },
   "outputs": [
    {
     "output_type": "stream",
     "name": "stdout",
     "output_type": "stream",
     "text": [
      "+-------+------+\n|   Dept|countx|\n+-------+------+\n|Finance|     3|\n+-------+------+\n\n"
     ]
    }
   ],
   "source": [
    "df.select(\"*\")\\\n",
    "    .groupBy(\"Dept\")\\\n",
    "    .agg(fnsql.count(\"Dept\").alias(\"countx\"))\\\n",
    "    .filter(fnsql.col(\"countx\")==3).show()"
   ]
  }
 ],
 "metadata": {
  "application/vnd.databricks.v1+notebook": {
   "dashboards": [],
   "environmentMetadata": null,
   "language": "python",
   "notebookMetadata": {
    "pythonIndentUnit": 4
   },
   "notebookName": "wndfns",
   "widgets": {}
  }
 },
 "nbformat": 4,
 "nbformat_minor": 0
}
